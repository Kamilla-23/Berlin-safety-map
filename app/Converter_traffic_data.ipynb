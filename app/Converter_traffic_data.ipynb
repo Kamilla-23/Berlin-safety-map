{
 "cells": [
  {
   "cell_type": "code",
   "execution_count": 1,
   "metadata": {},
   "outputs": [],
   "source": [
    "import json\n",
    "from shapely.geometry import LineString"
   ]
  },
  {
   "cell_type": "code",
   "execution_count": null,
   "metadata": {},
   "outputs": [],
   "source": [
    "# Define a function to convert MultiLineString to LineString by combining all coordinates into a single LineString\n",
    "def convert_multilinestring_to_linestring(geometry):\n",
    "    if geometry['type'] == 'MultiLineString':\n",
    "        all_coords = [coord for line in geometry['coordinates'] for coord in line]\n",
    "        return LineString(all_coords)\n",
    "    else:\n",
    "        return geometry\n",
    "\n",
    "# Load original geojson file\n",
    "input_file_path = '/Users/jinlinchen/Documents/Study/HWR Berlin/Semester 2/Big Data Architecture/touble shooring/berlin-map/app/bzm_telraam_segments.geojson'\n",
    "with open(input_file_path, 'r') as file:\n",
    "    geojson_data = json.load(file)\n",
    "\n",
    "# Apply the conversion to the features\n",
    "for feature in geojson_data['features']:\n",
    "    feature['geometry'] = convert_multilinestring_to_linestring(feature['geometry']).__geo_interface__\n",
    "\n",
    "# Save new GeoJSON file\n",
    "output_file_path = 'converted_telraam_segments.geojson'\n",
    "with open(output_file_path, 'w') as file:\n",
    "    json.dump(geojson_data, file)\n"
   ]
  }
 ],
 "metadata": {
  "kernelspec": {
   "display_name": "Python 3",
   "language": "python",
   "name": "python3"
  },
  "language_info": {
   "codemirror_mode": {
    "name": "ipython",
    "version": 3
   },
   "file_extension": ".py",
   "mimetype": "text/x-python",
   "name": "python",
   "nbconvert_exporter": "python",
   "pygments_lexer": "ipython3",
   "version": "3.11.6"
  }
 },
 "nbformat": 4,
 "nbformat_minor": 2
}
