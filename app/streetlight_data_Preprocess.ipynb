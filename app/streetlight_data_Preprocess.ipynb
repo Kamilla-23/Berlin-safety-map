{
 "cells": [
  {
   "cell_type": "code",
   "execution_count": 1,
   "metadata": {},
   "outputs": [
    {
     "name": "stdout",
     "output_type": "stream",
     "text": [
      "Cleaned data saved to pruned_streetlight.geojson\n"
     ]
    }
   ],
   "source": [
    "import json\n",
    "\n",
    "def clean_data(input_path, output_path):\n",
    "    with open(input_path, 'r') as f:\n",
    "        data = json.load(f)\n",
    "    \n",
    "    filtered_features = []\n",
    "    \n",
    "    for feature in data['features']:\n",
    "        properties = feature['properties']\n",
    "        \n",
    "        # Check if the status is 'In Betrieb'\n",
    "        if properties.get('status', '') == 'In Betrieb':\n",
    "            # Remove 'leuchtstelle', 'kurznummer', 'betriebsart', and 'leuchtentyp'\n",
    "            properties.pop('leuchtstelle', None)\n",
    "            properties.pop('kurznummer', None)\n",
    "            properties.pop('betriebsart', None)\n",
    "            properties.pop('leuchtentyp', None)\n",
    "            # Keep the necessary properties\n",
    "            filtered_properties = {\n",
    "                \"bezirk\": properties.get('bezirk', ''),\n",
    "                \"ortsteil\": properties.get('ortsteil', ''),\n",
    "                \"strasse\": properties.get('strasse', ''),\n",
    "                \"east\": properties.get('east', ''),\n",
    "                \"north\": properties.get('north', '')\n",
    "            }\n",
    "            # Create a new feature with filtered properties\n",
    "            filtered_feature = {\n",
    "                \"type\": \"Feature\",\n",
    "                \"properties\": filtered_properties,\n",
    "                \"geometry\": feature['geometry']\n",
    "            }\n",
    "            filtered_features.append(filtered_feature)\n",
    "    \n",
    "    # Create a new GeoJSON structure\n",
    "    filtered_data = {\n",
    "        \"type\": \"FeatureCollection\",\n",
    "        \"name\": data.get(\"name\", \"\"),\n",
    "        \"crs\": data.get(\"crs\", {}),\n",
    "        \"features\": filtered_features\n",
    "    }\n",
    "    \n",
    "    # Save the cleaned data to a new GeoJSON file\n",
    "    with open(output_path, 'w') as f:\n",
    "        json.dump(filtered_data, f, indent=2)\n",
    "\n",
    "# Define file paths\n",
    "input_file = 'raw_streetlight_data.geojson'\n",
    "output_file = 'pruned_streetlight.geojson'\n",
    "\n",
    "# Apply the cleaning function\n",
    "clean_data(input_file, output_file)\n",
    "\n",
    "print(f'Cleaned data saved to {output_file}')"
   ]
  }
 ],
 "metadata": {
  "kernelspec": {
   "display_name": "Python 3",
   "language": "python",
   "name": "python3"
  },
  "language_info": {
   "codemirror_mode": {
    "name": "ipython",
    "version": 3
   },
   "file_extension": ".py",
   "mimetype": "text/x-python",
   "name": "python",
   "nbconvert_exporter": "python",
   "pygments_lexer": "ipython3",
   "version": "3.11.6"
  }
 },
 "nbformat": 4,
 "nbformat_minor": 2
}
